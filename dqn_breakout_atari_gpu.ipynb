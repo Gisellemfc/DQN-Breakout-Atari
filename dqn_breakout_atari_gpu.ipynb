{
  "cells": [
    {
      "cell_type": "markdown",
      "source": [
        "![UNIMET.png](data:image/png;base64,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)\n",
        "\n",
        "Universidad Metropolitana\n",
        "\n",
        "Facultad de Ingeniería\n",
        "\n",
        "Computación Emergente\n",
        "\n",
        "Prof. Nicolás Araque Volk\n",
        "\n",
        "*PROYECTO 2*\n",
        "\n",
        "Integrantes:\n",
        "Nicole Brito, Carnet: 20181110056.\n",
        "Giselle Ferreira, Carnet: 20181110399."
      ],
      "metadata": {
        "id": "lyelDGHgsGeT"
      }
    },
    {
      "cell_type": "markdown",
      "metadata": {
        "id": "0ZUDhIV5Yr7E"
      },
      "source": [
        "# Deep Q-Network implementation.\n",
        "\n",
        "This homework shamelessly demands you to implement a DQN - an approximate q-learning algorithm with experience replay and target networks - and see if it works any better this way.\n",
        "\n",
        "Original paper:\n",
        "https://arxiv.org/pdf/1312.5602.pdf"
      ]
    },
    {
      "cell_type": "markdown",
      "metadata": {
        "id": "Wj-m84L9Yr7J"
      },
      "source": [
        "**This notebook is the main notebook.** Another notebook is given for debug. (**homework_pytorch_main**). The tasks are similar and share most of the code. The main difference is in environments. In main notebook it can take some 2 hours for the agent to start improving so it seems reasonable to launch the algorithm on a simpler env first. In debug one it is CartPole and it will train in several minutes."
      ]
    },
    {
      "cell_type": "code",
      "execution_count": 1,
      "metadata": {
        "colab": {
          "base_uri": "https://localhost:8080/"
        },
        "id": "bZHxPwHXYr7M",
        "outputId": "b39ca932-6022-4b07-9289-5fd86854496f"
      },
      "outputs": [
        {
          "output_type": "stream",
          "name": "stdout",
          "text": [
            "Starting virtual X frame buffer: Xvfb.\n"
          ]
        }
      ],
      "source": [
        "# in google colab uncomment this\n",
        "\n",
        "import os\n",
        "\n",
        "os.system('apt-get update')\n",
        "os.system('apt-get install -y xvfb')\n",
        "os.system('wget https://raw.githubusercontent.com/yandexdataschool/Practical_DL/fall18/xvfb -O ../xvfb')\n",
        "os.system('apt-get install -y python-opengl ffmpeg')\n",
        "os.system('pip install pyglet==1.5.0')\n",
        "\n",
        "os.system('python -m pip install -U pygame --user')\n",
        "\n",
        "prefix = 'https://raw.githubusercontent.com/yandexdataschool/Practical_RL/master/week04_approx_rl/'\n",
        "\n",
        "os.system('wget ' + prefix + 'atari_wrappers.py')\n",
        "os.system('wget ' + prefix + 'utils.py')\n",
        "os.system('wget ' + prefix + 'replay_buffer.py')\n",
        "os.system('wget ' + prefix + 'framebuffer.py')\n",
        "\n",
        "os.system('pip install stable-baselines3[extra] pyvirtualdisplay gym[atari] pyglet')\n",
        "os.system('pip install atari-py')\n",
        "os.system('apt-get install unrar')\n",
        "\n",
        "os.system('wget http://www.atarimania.com/roms/Roms.rar')\n",
        "os.system('unrar x Roms.rar')\n",
        "os.system('unzip ROMS.zip')\n",
        "os.system('python -m atari_py.import_roms ROMS')\n",
        "# print('setup complete')\n",
        "\n",
        "# XVFB will be launched if you run on a server\n",
        "import os\n",
        "if type(os.environ.get(\"DISPLAY\")) is not str or len(os.environ.get(\"DISPLAY\")) == 0:\n",
        "    !bash ../xvfb start\n",
        "    os.environ['DISPLAY'] = ':1'\n"
      ]
    },
    {
      "cell_type": "markdown",
      "metadata": {
        "id": "tKaBf1GtYr7T"
      },
      "source": [
        "__Frameworks__ - we'll accept this homework in any deep learning framework. This particular notebook was designed for pytoch, but you find it easy to adapt it to almost any python-based deep learning framework."
      ]
    },
    {
      "cell_type": "code",
      "execution_count": 2,
      "metadata": {
        "id": "LZTqx9P1Yr7V"
      },
      "outputs": [],
      "source": [
        "import random\n",
        "import numpy as np\n",
        "import torch\n",
        "import utils\n",
        "import pandas as pd\n",
        "import cv2"
      ]
    },
    {
      "cell_type": "code",
      "execution_count": 3,
      "metadata": {
        "id": "uWqYSmVcYr7c"
      },
      "outputs": [],
      "source": [
        "import gym\n",
        "import matplotlib.pyplot as plt"
      ]
    },
    {
      "cell_type": "markdown",
      "metadata": {
        "id": "sz6wOVHUYr7i"
      },
      "source": [
        "### Let's play some old videogames\n",
        "![img](https://github.com/yandexdataschool/Practical_RL/raw/master/yet_another_week/_resource/nerd.png)\n",
        "\n",
        "This time we're gonna apply approximate q-learning to an atari game called Breakout. It's not the hardest thing out there, but it's definitely way more complex than anything we tried before.\n"
      ]
    },
    {
      "cell_type": "code",
      "execution_count": 4,
      "metadata": {
        "id": "27wa-_YCYr7k"
      },
      "outputs": [],
      "source": [
        "ENV_NAME = \"BreakoutNoFrameskip-v4\""
      ]
    },
    {
      "cell_type": "markdown",
      "metadata": {
        "id": "-ksb-dsaYr7q"
      },
      "source": [
        "## Preprocessing"
      ]
    },
    {
      "cell_type": "markdown",
      "metadata": {
        "id": "Pv3QqGcmYr7s"
      },
      "source": [
        "Let's see what observations look like."
      ]
    },
    {
      "cell_type": "code",
      "execution_count": 5,
      "metadata": {
        "colab": {
          "base_uri": "https://localhost:8080/",
          "height": 520
        },
        "id": "xFHl47A_Yr7v",
        "outputId": "5da931c9-7285-4a4e-b8fd-e64063c964b8"
      },
      "outputs": [
        {
          "output_type": "display_data",
          "data": {
            "text/plain": [
              "<Figure size 1152x648 with 10 Axes>"
            ],
            "image/png": "[encoded data removed]"
          },
          "metadata": {
            "needs_background": "light"
          }
        }
      ],
      "source": [
        "env = gym.make(ENV_NAME)\n",
        "env.reset()\n",
        "\n",
        "n_cols = 5\n",
        "n_rows = 2\n",
        "fig = plt.figure(figsize=(16, 9))\n",
        "\n",
        "for row in range(n_rows):\n",
        "    for col in range(n_cols):\n",
        "        ax = fig.add_subplot(n_rows, n_cols, row * n_cols + col + 1)\n",
        "        ax.imshow(env.render('rgb_array'))\n",
        "        env.step(env.action_space.sample())\n",
        "plt.show()"
      ]
    },
    {
      "cell_type": "markdown",
      "metadata": {
        "id": "qkaEc5sRYr70"
      },
      "source": [
        "**Let's play a little.**\n",
        "\n",
        "Pay attention to zoom and fps args of play function. Control: A, D, space."
      ]
    },
    {
      "cell_type": "code",
      "execution_count": 6,
      "metadata": {
        "id": "ws7cnd9LYr72"
      },
      "outputs": [],
      "source": [
        "# # does not work in colab.\n",
        "# # make keyboard interrupt to continue\n",
        "\n",
        "# from gym.utils.play import play\n",
        "\n",
        "# play(env=gym.make(ENV_NAME), zoom=5, fps=30)"
      ]
    },
    {
      "cell_type": "markdown",
      "metadata": {
        "id": "T1aE7ZNiYr77"
      },
      "source": [
        "### Processing game image \n",
        "\n",
        "Raw atari images are large, 210x160x3 by default. However, we don't need that level of detail in order to learn them.\n",
        "\n",
        "We can thus save a lot of time by preprocessing game image, including\n",
        "* Resizing to a smaller shape, 64 x 64\n",
        "* Converting to grayscale\n",
        "* Cropping irrelevant image parts (top, bottom and edges)\n",
        "\n",
        "Also please keep one dimension for channel so that final shape would be 1 x 64 x 64.\n",
        "\n",
        "Tip: You can implement your own grayscale converter and assign a huge weight to the red channel. This dirty trick is not necessary but it will speed up learning."
      ]
    },
    {
      "cell_type": "code",
      "execution_count": 7,
      "metadata": {
        "id": "wAHF_w9gYr79"
      },
      "outputs": [],
      "source": [
        "from gym.core import ObservationWrapper\n",
        "from gym.spaces import Box\n",
        "\n",
        "\n",
        "class PreprocessAtariObs(ObservationWrapper):\n",
        "    def __init__(self, env):\n",
        "        \"\"\"A gym wrapper that crops, scales image into the desired shapes and grayscales it.\"\"\"\n",
        "        ObservationWrapper.__init__(self, env)\n",
        "\n",
        "        self.img_size = (1, 64, 64)\n",
        "        self.observation_space = Box(0.0, 1.0, self.img_size)\n",
        "\n",
        "\n",
        "    def _to_gray_scale(self, rgb, channel_weights=[0.8, 0.1, 0.1]):\n",
        "        return np.dot(rgb[...,:3], channel_weights)\n",
        "\n",
        "\n",
        "    def observation(self, img):\n",
        "        \"\"\"what happens to each observation\"\"\"\n",
        "\n",
        "        # Here's what you need to do:\n",
        "        #  * crop image, remove irrelevant parts\n",
        "        #  * resize image to self.img_size\n",
        "        #     (use imresize from any library you want,\n",
        "        #      e.g. opencv, skimage, PIL, keras)\n",
        "        #  * cast image to grayscale\n",
        "        #  * convert image pixels to (0,1) range, float32 type\n",
        "        cropY = [30,200]\n",
        "        cropX = [6,154]\n",
        "        cropped_image = img[cropY[0]:cropY[1], :,:]\n",
        "        resized_image = cv2.resize(cropped_image,self.img_size[1:], interpolation=cv2.INTER_AREA)\n",
        "\n",
        "        gray_image = self._to_gray_scale(resized_image,channel_weights=[0.8, 0.1, 0.1])\n",
        "\n",
        "        norm_image=gray_image.astype('float32') / 255.\n",
        "        \n",
        "        final_image = np.expand_dims(norm_image, axis=0)\n",
        "\n",
        "        return final_image"
      ]
    },
    {
      "cell_type": "code",
      "execution_count": 8,
      "metadata": {
        "id": "i2w_oLiHYr8C",
        "colab": {
          "base_uri": "https://localhost:8080/",
          "height": 488
        },
        "outputId": "f09e9d86-2075-4067-9c33-201faa87e920"
      },
      "outputs": [
        {
          "output_type": "stream",
          "name": "stdout",
          "text": [
            "Formal tests seem fine. Here's an example of what you'll get.\n"
          ]
        },
        {
          "output_type": "display_data",
          "data": {
            "text/plain": [
              "<Figure size 1152x648 with 10 Axes>"
            ],
            "image/png": "[encoded data removed]"
          },
          "metadata": {
            "needs_background": "light"
          }
        }
      ],
      "source": [
        "import gym\n",
        "# spawn game instance for tests\n",
        "env = gym.make(ENV_NAME)  # create raw env\n",
        "env = PreprocessAtariObs(env)\n",
        "observation_shape = env.observation_space.shape\n",
        "n_actions = env.action_space.n\n",
        "env.reset()\n",
        "obs, _, _, _ = env.step(env.action_space.sample())\n",
        "\n",
        "# test observation\n",
        "assert obs.ndim == 3, \"observation must be [channel, h, w] even if there's just one channel\"\n",
        "assert obs.shape == observation_shape\n",
        "assert obs.dtype == 'float32'\n",
        "assert len(np.unique(obs)) > 2, \"your image must not be binary\"\n",
        "assert 0 <= np.min(obs) and np.max(\n",
        "    obs) <= 1, \"convert image pixels to [0,1] range\"\n",
        "\n",
        "assert np.max(obs) >= 0.5, \"It would be easier to see a brighter observation\"\n",
        "assert np.mean(obs) >= 0.1, \"It would be easier to see a brighter observation\"\n",
        "\n",
        "print(\"Formal tests seem fine. Here's an example of what you'll get.\")\n",
        "\n",
        "n_cols = 5\n",
        "n_rows = 2\n",
        "fig = plt.figure(figsize=(16, 9))\n",
        "obs = env.reset()\n",
        "for row in range(n_rows):\n",
        "    for col in range(n_cols):\n",
        "        ax = fig.add_subplot(n_rows, n_cols, row * n_cols + col + 1)\n",
        "        ax.imshow(obs[0, :, :], interpolation='none', cmap='gray')\n",
        "        obs, _, _, _ = env.step(env.action_space.sample())\n",
        "plt.show()\n"
      ]
    },
    {
      "cell_type": "markdown",
      "metadata": {
        "id": "jg7LfazSYr8I"
      },
      "source": [
        "### Wrapping."
      ]
    },
    {
      "cell_type": "markdown",
      "metadata": {
        "id": "pFlWGGJ7Yr8K"
      },
      "source": [
        "**About the game:** You have 5 lives and get points for breaking the wall. Higher bricks cost more than the lower ones. There are 4 actions: start game (should be called at the beginning and after each life is lost), move left, move right and do nothing. There are some common wrappers used for Atari environments."
      ]
    },
    {
      "cell_type": "code",
      "execution_count": 9,
      "metadata": {
        "id": "BkMmgtwJYr8M"
      },
      "outputs": [],
      "source": [
        "%load_ext autoreload\n",
        "%autoreload 2\n",
        "import atari_wrappers\n",
        "\n",
        "def PrimaryAtariWrap(env, clip_rewards=True):\n",
        "    assert 'NoFrameskip' in env.spec.id\n",
        "\n",
        "    # This wrapper holds the same action for <skip> frames and outputs\n",
        "    # the maximal pixel value of 2 last frames (to handle blinking\n",
        "    # in some envs)\n",
        "    env = atari_wrappers.MaxAndSkipEnv(env, skip=4)\n",
        "\n",
        "    # This wrapper sends done=True when each life is lost\n",
        "    # (not all the 5 lives that are givern by the game rules).\n",
        "    # It should make easier for the agent to understand that losing is bad.\n",
        "    env = atari_wrappers.EpisodicLifeEnv(env)\n",
        "\n",
        "    # This wrapper laucnhes the ball when an episode starts.\n",
        "    # Without it the agent has to learn this action, too.\n",
        "    # Actually it can but learning would take longer.\n",
        "    env = atari_wrappers.FireResetEnv(env)\n",
        "\n",
        "    # This wrapper transforms rewards to {-1, 0, 1} according to their sign\n",
        "    if clip_rewards:\n",
        "        env = atari_wrappers.ClipRewardEnv(env)\n",
        "\n",
        "    # This wrapper is yours :)\n",
        "    env = PreprocessAtariObs(env)\n",
        "    return env"
      ]
    },
    {
      "cell_type": "markdown",
      "metadata": {
        "id": "3J9JAvgPYr8Q"
      },
      "source": [
        "**Let's see if the game is still playable after applying the wrappers.**\n",
        "At playing the EpisodicLifeEnv wrapper seems not to work but actually it does (because after when life finishes a new ball is dropped automatically - it means that FireResetEnv wrapper understands that a new episode began)."
      ]
    },
    {
      "cell_type": "code",
      "execution_count": 10,
      "metadata": {
        "id": "KVkGPGa5Yr8S"
      },
      "outputs": [],
      "source": [
        "# # does not work in colab.\n",
        "# # make keyboard interrupt to continue\n",
        "\n",
        "# from gym.utils.play import play\n",
        "\n",
        "# def make_play_env():\n",
        "#     env = gym.make(ENV_NAME)\n",
        "#     env = PrimaryAtariWrap(env)\n",
        "# # in torch imgs have shape [c, h, w] instead of common [h, w, c]\n",
        "#     env = atari_wrappers.AntiTorchWrapper(env)\n",
        "#     return env\n",
        "\n",
        "# play(make_play_env(), zoom=10, fps=3)"
      ]
    },
    {
      "cell_type": "markdown",
      "metadata": {
        "id": "tqhgqtTFYr8X"
      },
      "source": [
        "### Frame buffer\n",
        "\n",
        "Our agent can only process one observation at a time, so we gotta make sure it contains enough information to find optimal actions. For instance, agent has to react to moving objects so he must be able to measure object's velocity.\n",
        "\n",
        "To do so, we introduce a buffer that stores 4 last images. This time everything is pre-implemented for you, not really by the staff of the course :)"
      ]
    },
    {
      "cell_type": "code",
      "execution_count": 11,
      "metadata": {
        "id": "1NFYjOW8Yr8Y"
      },
      "outputs": [],
      "source": [
        "from framebuffer import FrameBuffer\n",
        "\n",
        "def make_env(clip_rewards=True, seed=None):\n",
        "    env = gym.make(ENV_NAME)  # create raw env\n",
        "    if seed is not None:\n",
        "        env.seed(seed)\n",
        "    env = PrimaryAtariWrap(env, clip_rewards)\n",
        "    env = FrameBuffer(env, n_frames=4, dim_order='pytorch')\n",
        "    return env\n",
        "\n",
        "env = make_env()\n",
        "env.reset()\n",
        "n_actions = env.action_space.n\n",
        "state_shape = env.observation_space.shape"
      ]
    },
    {
      "cell_type": "code",
      "execution_count": 12,
      "metadata": {
        "id": "ETuq6BDrYr8f",
        "colab": {
          "base_uri": "https://localhost:8080/",
          "height": 1000
        },
        "outputId": "34c1f314-9dd0-487f-a3d3-f9a93c117e9b"
      },
      "outputs": [
        {
          "output_type": "display_data",
          "data": {
            "text/plain": [
              "<Figure size 864x720 with 1 Axes>"
            ],
            "image/png": "[encoded data removed]"
          },
          "metadata": {
            "needs_background": "light"
          }
        },
        {
          "output_type": "display_data",
          "data": {
            "text/plain": [
              "<Figure size 1080x1080 with 1 Axes>"
            ],
            "image/png": "[encoded data removed]"
          },
          "metadata": {
            "needs_background": "light"
          }
        }
      ],
      "source": [
        "for _ in range(12):\n",
        "    obs, _, _, _ = env.step(env.action_space.sample())\n",
        "\n",
        "plt.figure(figsize=[12,10])\n",
        "plt.title(\"Game image\")\n",
        "plt.imshow(env.render(\"rgb_array\"))\n",
        "plt.show()\n",
        "\n",
        "plt.figure(figsize=[15,15])\n",
        "plt.title(\"Agent observation (4 frames top to bottom)\")\n",
        "plt.imshow(utils.img_by_obs(obs, state_shape), cmap='gray')\n",
        "plt.show()"
      ]
    },
    {
      "cell_type": "markdown",
      "metadata": {
        "id": "g9jQvmKdYr8l"
      },
      "source": [
        "## DQN as it is"
      ]
    },
    {
      "cell_type": "markdown",
      "metadata": {
        "id": "H6UK0OU0Yr8m"
      },
      "source": [
        "### Building a network\n",
        "\n",
        "We now need to build a neural network that can map images to state q-values. This network will be called on every agent's step so it better not be resnet-152 unless you have an array of GPUs. Instead, you can use strided convolutions with a small number of features to save time and memory.\n",
        "\n",
        "You can build any architecture you want, but for reference, here's something that will more or less work:"
      ]
    },
    {
      "cell_type": "markdown",
      "metadata": {
        "id": "L9gs_ZucYr8o"
      },
      "source": [
        "![img](https://github.com/yandexdataschool/Practical_RL/raw/master/yet_another_week/_resource/dqn_arch.png)"
      ]
    },
    {
      "cell_type": "markdown",
      "metadata": {
        "id": "KaQpcmSKm29I"
      },
      "source": [
        "**Dueling network: (+2 pts)**\n",
        "$$Q_{\\theta}(s, a) = V_{\\eta}(f_{\\xi}(s)) + A_{\\psi}(f_{\\xi}(s), a) - \\frac{\\sum_{a'}A_{\\psi}(f_{\\xi}(s), a')}{N_{actions}},$$\n",
        "where $\\xi$, $\\eta$, and $\\psi$ are, respectively, the parameters of the\n",
        "shared encoder $f_ξ$ , of the value stream $V_\\eta$ , and of the advan\n",
        "tage stream $A_\\psi$; and $\\theta = \\{\\xi, \\eta, \\psi\\}$ is their concatenation.\n",
        "\n",
        "For the architecture on the image $V$ and $A$ heads can follow the dense layer instead of $Q$. Please don't worry that the model becomes a little bigger."
      ]
    },
    {
      "cell_type": "code",
      "execution_count": 13,
      "metadata": {
        "id": "p9EaBWcbYr8p",
        "colab": {
          "base_uri": "https://localhost:8080/"
        },
        "outputId": "d3c4c52b-bf98-4dce-ddcd-626dba74dc6d"
      },
      "outputs": [
        {
          "output_type": "execute_result",
          "data": {
            "text/plain": [
              "device(type='cpu')"
            ]
          },
          "metadata": {},
          "execution_count": 13
        }
      ],
      "source": [
        "import torch\n",
        "import torch.nn as nn\n",
        "from keras.layers import Conv2D, Dense, Flatten\n",
        "import keras\n",
        "import tensorflow as tf\n",
        "device = torch.device('cuda' if torch.cuda.is_available() else 'cpu')\n",
        "# those who have a GPU but feel unfair to use it can uncomment:\n",
        "# device = torch.device('cpu')\n",
        "device"
      ]
    },
    {
      "cell_type": "code",
      "execution_count": 14,
      "metadata": {
        "id": "AWBLdSxAYr8t"
      },
      "outputs": [],
      "source": [
        "def conv2d_size_out(size, kernel_size, stride):\n",
        "    \"\"\"\n",
        "    common use case:\n",
        "    cur_layer_img_w = conv2d_size_out(cur_layer_img_w, kernel_size, stride)\n",
        "    cur_layer_img_h = conv2d_size_out(cur_layer_img_h, kernel_size, stride)\n",
        "    to understand the shape for dense layer's input\n",
        "    \"\"\"\n",
        "    return (size - (kernel_size - 1) - 1) // stride  + 1\n"
      ]
    },
    {
      "cell_type": "code",
      "execution_count": 15,
      "metadata": {
        "id": "xAYejeRuYr8y"
      },
      "outputs": [],
      "source": [
        "class DQNAgent(nn.Module):\n",
        "    def __init__(self, state_shape, n_actions, epsilon=0):\n",
        "\n",
        "        super().__init__()\n",
        "        self.epsilon = epsilon\n",
        "        self.n_actions = n_actions\n",
        "        self.state_shape = state_shape\n",
        "\n",
        "        # Define your network body here. Please make sure agent is fully contained here\n",
        "        # nn.Flatten() can be useful\n",
        "        state_dim = state_shape[0]\n",
        "        self.network = nn.Sequential()\n",
        "        self.network.add_module('Conv1', nn.Conv2d(in_channels=state_dim, out_channels=16, kernel_size=3, stride=2))\n",
        "        self.network.add_module('Act1', nn.ReLU())\n",
        "        self.network.add_module('Conv2', nn.Conv2d(in_channels=16, out_channels=32, kernel_size=3, stride=2))\n",
        "        self.network.add_module('Act2', nn.ReLU())\n",
        "        self.network.add_module('Conv3', nn.Conv2d(in_channels=32, out_channels=64, kernel_size=3, stride=2))\n",
        "        self.network.add_module('Act3', nn.ReLU())\n",
        "        self.network.add_module('Flatten', nn.Flatten())\n",
        "        self.network.add_module('Dense', nn.Linear(in_features=conv2d_size_out(conv2d_size_out(conv2d_size_out(64,3,2), 3, 2), 3, 2)**2 * 64, out_features=256))\n",
        "        self.network.add_module('Act4', nn.ReLU())\n",
        "        self.network.add_module('Output', nn.Linear(in_features=256, out_features=n_actions))\n",
        "        \n",
        "\n",
        "    def forward(self, state_t):\n",
        "        \"\"\"\n",
        "        takes agent's observation (tensor), returns qvalues (tensor)\n",
        "        :param state_t: a batch of 4-frame buffers, shape = [batch_size, 4, h, w]\n",
        "        \"\"\"\n",
        "        # Use your network to compute qvalues for given state\n",
        "        qvalues = self.network(state_t)\n",
        "\n",
        "        assert qvalues.requires_grad, \"qvalues must be a torch tensor with grad\"\n",
        "        assert len(\n",
        "            qvalues.shape) == 2 and qvalues.shape[0] == state_t.shape[0] and qvalues.shape[1] == n_actions\n",
        "\n",
        "        return qvalues\n",
        "\n",
        "    def get_qvalues(self, states):\n",
        "        \"\"\"\n",
        "        like forward, but works on numpy arrays, not tensors\n",
        "        \"\"\"\n",
        "        model_device = next(self.parameters()).device\n",
        "        states = torch.tensor(states, device=model_device, dtype=torch.float)\n",
        "        qvalues = self.forward(states)\n",
        "        return qvalues.data.cpu().numpy()\n",
        "\n",
        "    def sample_actions(self, qvalues):\n",
        "        \"\"\"pick actions given qvalues. Uses epsilon-greedy exploration strategy. \"\"\"\n",
        "        epsilon = self.epsilon\n",
        "        batch_size, n_actions = qvalues.shape\n",
        "\n",
        "        random_actions = np.random.choice(n_actions, size=batch_size)\n",
        "        best_actions = qvalues.argmax(axis=-1)\n",
        "\n",
        "        should_explore = np.random.choice(\n",
        "            [0, 1], batch_size, p=[1-epsilon, epsilon])\n",
        "        return np.where(should_explore, random_actions, best_actions)"
      ]
    },
    {
      "cell_type": "code",
      "execution_count": 16,
      "metadata": {
        "id": "ScWX-Jh5Yr83"
      },
      "outputs": [],
      "source": [
        "agent = DQNAgent(state_shape, n_actions, epsilon=0.5).to(device)"
      ]
    },
    {
      "cell_type": "markdown",
      "metadata": {
        "id": "dtvIPzsvYr8-"
      },
      "source": [
        "Now let's try out our agent to see if it raises any errors."
      ]
    },
    {
      "cell_type": "code",
      "execution_count": 17,
      "metadata": {
        "id": "zSfjyA61Yr8_"
      },
      "outputs": [],
      "source": [
        "def evaluate(env, agent, n_games=1, greedy=False, t_max=10000):\n",
        "    \"\"\" Plays n_games full games. If greedy, picks actions as argmax(qvalues). Returns mean reward. \"\"\"\n",
        "    rewards = []\n",
        "    for _ in range(n_games):\n",
        "        s = env.reset()\n",
        "        reward = 0\n",
        "        for _ in range(t_max):\n",
        "            qvalues = agent.get_qvalues([s])\n",
        "            action = qvalues.argmax(axis=-1)[0] if greedy else agent.sample_actions(qvalues)[0]\n",
        "            s, r, done, _ = env.step(action)\n",
        "            reward += r\n",
        "            if done:\n",
        "                break\n",
        "\n",
        "        rewards.append(reward)\n",
        "    return np.mean(rewards)"
      ]
    },
    {
      "cell_type": "code",
      "execution_count": 18,
      "metadata": {
        "id": "VOqq0s-dYr9E",
        "colab": {
          "base_uri": "https://localhost:8080/"
        },
        "outputId": "d1464b21-ac15-48b9-844c-6f55b1f29fa5"
      },
      "outputs": [
        {
          "output_type": "stream",
          "name": "stderr",
          "text": [
            "/usr/local/lib/python3.7/dist-packages/ipykernel_launcher.py:44: UserWarning: Creating a tensor from a list of numpy.ndarrays is extremely slow. Please consider converting the list to a single numpy.ndarray with numpy.array() before converting to a tensor. (Triggered internally at  ../torch/csrc/utils/tensor_new.cpp:210.)\n"
          ]
        },
        {
          "output_type": "execute_result",
          "data": {
            "text/plain": [
              "0.0"
            ]
          },
          "metadata": {},
          "execution_count": 18
        }
      ],
      "source": [
        "evaluate(env, agent, n_games=1)"
      ]
    },
    {
      "cell_type": "markdown",
      "metadata": {
        "id": "PbvsEbQCYr9I"
      },
      "source": [
        "### Experience replay\n",
        "\n",
        "![img](https://github.com/yandexdataschool/Practical_RL/raw/master/yet_another_week/_resource/exp_replay.png)"
      ]
    },
    {
      "cell_type": "markdown",
      "metadata": {
        "id": "b-7hvrmlYr9J"
      },
      "source": [
        "#### The interface is fairly simple:\n",
        "* `exp_replay.add(obs, act, rw, next_obs, done)` - saves (s,a,r,s',done) tuple into the buffer\n",
        "* `exp_replay.sample(batch_size)` - returns observations, actions, rewards, next_observations and is_done for `batch_size` random samples.\n",
        "* `len(exp_replay)` - returns number of elements stored in replay buffer."
      ]
    },
    {
      "cell_type": "code",
      "execution_count": 19,
      "metadata": {
        "id": "SCxjXMh_Yr9L"
      },
      "outputs": [],
      "source": [
        "from replay_buffer import ReplayBuffer\n",
        "exp_replay = ReplayBuffer(10)\n",
        "\n",
        "for _ in range(30):\n",
        "    exp_replay.add(env.reset(), env.action_space.sample(),\n",
        "                   1.0, env.reset(), done=False)\n",
        "\n",
        "obs_batch, act_batch, reward_batch, next_obs_batch, is_done_batch = exp_replay.sample(\n",
        "    5)\n",
        "\n",
        "assert len(exp_replay) == 10, \"experience replay size should be 10 because that's what maximum capacity is\""
      ]
    },
    {
      "cell_type": "code",
      "execution_count": 20,
      "metadata": {
        "id": "U2wht2xzYr9P"
      },
      "outputs": [],
      "source": [
        "def play_and_record(initial_state, agent, env, exp_replay, n_steps=1):\n",
        "    \"\"\"\n",
        "    Play the game for exactly n steps, record every (s,a,r,s', done) to replay buffer. \n",
        "    Whenever game ends, add record with done=True and reset the game.\n",
        "    It is guaranteed that env has done=False when passed to this function.\n",
        "\n",
        "    PLEASE DO NOT RESET ENV UNLESS IT IS \"DONE\"\n",
        "\n",
        "    :returns: return sum of rewards over time and the state in which the env stays\n",
        "    \"\"\"\n",
        "    s = initial_state\n",
        "    sum_rewards = 0\n",
        "\n",
        "    # Play the game for n_steps as per instructions above\n",
        "    \n",
        "    reward = 0.0\n",
        "\n",
        "    # agent selects the action given state \"s\"\n",
        "    # add to: replay-buffer\n",
        "    \n",
        "    for t in range(n_steps):\n",
        "\n",
        "        qvalues = agent.get_qvalues([s])\n",
        "        action = agent.sample_actions(qvalues)[0]\n",
        "        next_s, r, done, _ = env.step(action)\n",
        "        exp_replay.add(s, action, r, next_s, done)\n",
        "        reward += r\n",
        "\n",
        "        if done:\n",
        "            s = env.reset()\n",
        "        else:\n",
        "            s = next_s\n",
        "\n",
        "    return sum_rewards, s"
      ]
    },
    {
      "cell_type": "code",
      "execution_count": 21,
      "metadata": {
        "id": "B176fzI-Yr9T",
        "colab": {
          "base_uri": "https://localhost:8080/"
        },
        "outputId": "ea228b1d-71de-49f4-c3b8-3d398d282635"
      },
      "outputs": [
        {
          "output_type": "stream",
          "name": "stdout",
          "text": [
            "Well done!\n"
          ]
        }
      ],
      "source": [
        "# testing your code.\n",
        "exp_replay = ReplayBuffer(2000)\n",
        "\n",
        "state = env.reset()\n",
        "play_and_record(state, agent, env, exp_replay, n_steps=1000)\n",
        "\n",
        "# if you're using your own experience replay buffer, some of those tests may need correction.\n",
        "# just make sure you know what your code does\n",
        "assert len(exp_replay) == 1000, \"play_and_record should have added exactly 1000 steps, \"\\\n",
        "                                 \"but instead added %i\" % len(exp_replay)\n",
        "is_dones = list(zip(*exp_replay._storage))[-1]\n",
        "\n",
        "assert 0 < np.mean(is_dones) < 0.1, \"Please make sure you restart the game whenever it is 'done' and record the is_done correctly into the buffer.\"\\\n",
        "                                    \"Got %f is_done rate over %i steps. [If you think it's your tough luck, just re-run the test]\" % (\n",
        "                                        np.mean(is_dones), len(exp_replay))\n",
        "\n",
        "for _ in range(100):\n",
        "    obs_batch, act_batch, reward_batch, next_obs_batch, is_done_batch = exp_replay.sample(\n",
        "        10)\n",
        "    assert obs_batch.shape == next_obs_batch.shape == (10,) + state_shape\n",
        "    assert act_batch.shape == (\n",
        "        10,), \"actions batch should have shape (10,) but is instead %s\" % str(act_batch.shape)\n",
        "    assert reward_batch.shape == (\n",
        "        10,), \"rewards batch should have shape (10,) but is instead %s\" % str(reward_batch.shape)\n",
        "    assert is_done_batch.shape == (\n",
        "        10,), \"is_done batch should have shape (10,) but is instead %s\" % str(is_done_batch.shape)\n",
        "    assert [int(i) in (0, 1)\n",
        "            for i in is_dones], \"is_done should be strictly True or False\"\n",
        "    assert [\n",
        "        0 <= a < n_actions for a in act_batch], \"actions should be within [0, n_actions)\"\n",
        "\n",
        "print(\"Well done!\")"
      ]
    },
    {
      "cell_type": "markdown",
      "metadata": {
        "id": "NaaAuU6IYr9Z"
      },
      "source": [
        "### Target networks\n",
        "\n",
        "We also employ the so called \"target network\" - a copy of neural network weights to be used for reference Q-values:\n",
        "\n",
        "The network itself is an exact copy of agent network, but it's parameters are not trained. Instead, they are moved here from agent's actual network every so often.\n",
        "\n",
        "$$ Q_{reference}(s,a) = r + \\gamma \\cdot \\max _{a'} Q_{target}(s',a') $$\n",
        "\n",
        "![img](https://github.com/yandexdataschool/Practical_RL/raw/master/yet_another_week/_resource/target_net.png)"
      ]
    },
    {
      "cell_type": "code",
      "execution_count": 22,
      "metadata": {
        "id": "rxFt9aHtYr9a",
        "colab": {
          "base_uri": "https://localhost:8080/"
        },
        "outputId": "37a7982f-d00a-4b90-b495-4b453760bdb3"
      },
      "outputs": [
        {
          "output_type": "execute_result",
          "data": {
            "text/plain": [
              "<All keys matched successfully>"
            ]
          },
          "metadata": {},
          "execution_count": 22
        }
      ],
      "source": [
        "target_network = DQNAgent(agent.state_shape, agent.n_actions, epsilon=0.5).to(device)\n",
        "# This is how you can load weights from agent into target network\n",
        "target_network.load_state_dict(agent.state_dict())"
      ]
    },
    {
      "cell_type": "markdown",
      "metadata": {
        "id": "v4Oom6q6Yr9e"
      },
      "source": [
        "### Learning with... Q-learning\n",
        "Here we write a function similar to `agent.update` from tabular q-learning."
      ]
    },
    {
      "cell_type": "markdown",
      "metadata": {
        "id": "sMuDQMH0Yr9g"
      },
      "source": [
        "Compute Q-learning TD error:\n",
        "\n",
        "$$ L = { 1 \\over N} \\sum_i [ Q_{\\theta}(s,a) - Q_{reference}(s,a) ] ^2 $$\n",
        "\n",
        "With Q-reference defined as\n",
        "\n",
        "$$ Q_{reference}(s,a) = r(s,a) + \\gamma \\cdot max_{a'} Q_{target}(s', a') $$\n",
        "\n",
        "Where\n",
        "* $Q_{target}(s',a')$ denotes q-value of next state and next action predicted by __target_network__\n",
        "* $s, a, r, s'$ are current state, action, reward and next state respectively\n",
        "* $\\gamma$ is a discount factor defined two cells above.\n",
        "\n",
        "\n",
        "__Note 1:__ there's an example input below. Feel free to experiment with it before you write the function.\n",
        "\n",
        "__Note 2:__ compute_td_loss is a source of 99% of bugs in this homework. If reward doesn't improve, it often helps to go through it line by line [with a rubber duck](https://rubberduckdebugging.com/).\n",
        "\n",
        "**Double DQN **\n",
        "\n",
        "$$ Q_{reference}(s,a) = r(s, a) + \\gamma \\cdot\n",
        "Q_{target}(s',argmax_{a'}Q_\\theta(s', a')) $$"
      ]
    },
    {
      "cell_type": "code",
      "execution_count": 23,
      "metadata": {
        "id": "pw28IOoNYr9h"
      },
      "outputs": [],
      "source": [
        "def compute_td_loss(states, actions, rewards, next_states, is_done,\n",
        "                    agent, target_network,\n",
        "                    gamma=0.99,\n",
        "                    check_shapes=False,\n",
        "                    device=device):\n",
        "    \"\"\" Compute td loss using torch operations only. Use the formulae above. \"\"\"\n",
        "    states = torch.tensor(states, device=device, dtype=torch.float)    # shape: [batch_size, *state_shape]\n",
        "\n",
        "    # for some torch reason should not make actions a tensor\n",
        "    actions = torch.tensor(actions, device=device, dtype=torch.long)    # shape: [batch_size]\n",
        "    rewards = torch.tensor(rewards, device=device, dtype=torch.float)  # shape: [batch_size]\n",
        "    # shape: [batch_size, *state_shape]\n",
        "    next_states = torch.tensor(next_states, device=device, dtype=torch.float)\n",
        "    is_done = torch.tensor(\n",
        "        is_done.astype('float32'),\n",
        "        device=device,\n",
        "        dtype=torch.float\n",
        "    )  # shape: [batch_size]\n",
        "    is_not_done = 1 - is_done\n",
        "\n",
        "    # get q-values for all actions in current states\n",
        "    predicted_qvalues = agent(states)\n",
        "\n",
        "    # compute q-values for all actions in next states\n",
        "    predicted_next_qvalues = target_network(next_states)\n",
        "    \n",
        "    # select q-values for chosen actions\n",
        "    predicted_qvalues_for_actions = predicted_qvalues[range(\n",
        "        len(actions)), actions]\n",
        "\n",
        "    # compute V*(next_states) using predicted next q-values\n",
        "    next_state_values = torch.max(predicted_next_qvalues, dim=1)[0]\n",
        "    next_state_values = next_state_values * is_not_done\n",
        "\n",
        "    assert next_state_values.dim(\n",
        "    ) == 1 and next_state_values.shape[0] == states.shape[0], \"must predict one value per state\"\n",
        "\n",
        "    # compute \"target q-values\" for loss - it's what's inside square parentheses in the above formula.\n",
        "    # at the last state use the simplified formula: Q(s,a) = r(s,a) since s' doesn't exist\n",
        "    # you can multiply next state values by is_not_done to achieve this.\n",
        "    target_qvalues_for_actions = rewards + gamma * next_state_values\n",
        "\n",
        "    # mean squared error loss to minimize\n",
        "    loss = torch.mean((predicted_qvalues_for_actions -\n",
        "                       target_qvalues_for_actions.detach()) ** 2)\n",
        "\n",
        "    if check_shapes:\n",
        "        assert predicted_next_qvalues.data.dim(\n",
        "        ) == 2, \"make sure you predicted q-values for all actions in next state\"\n",
        "        assert next_state_values.data.dim(\n",
        "        ) == 1, \"make sure you computed V(s') as maximum over just the actions axis and not all axes\"\n",
        "        assert target_qvalues_for_actions.data.dim(\n",
        "        ) == 1, \"there's something wrong with target q-values, they must be a vector\"\n",
        "\n",
        "    return loss"
      ]
    },
    {
      "cell_type": "markdown",
      "metadata": {
        "id": "vKWfaNgIYr9n"
      },
      "source": [
        "Sanity checks"
      ]
    },
    {
      "cell_type": "code",
      "execution_count": 24,
      "metadata": {
        "id": "x79qZpdhYr9o"
      },
      "outputs": [],
      "source": [
        "obs_batch, act_batch, reward_batch, next_obs_batch, is_done_batch = exp_replay.sample(\n",
        "    10)\n",
        "\n",
        "loss = compute_td_loss(obs_batch, act_batch, reward_batch, next_obs_batch, is_done_batch,\n",
        "                       agent, target_network,\n",
        "                       gamma=0.99, check_shapes=True)\n",
        "loss.backward()\n",
        "\n",
        "assert loss.requires_grad and tuple(loss.data.size()) == (\n",
        "    ), \"you must return scalar loss - mean over batch\"\n",
        "assert np.any(next(agent.parameters()).grad.data.cpu().numpy() !=\n",
        "              0), \"loss must be differentiable w.r.t. network weights\"\n",
        "assert np.all(next(target_network.parameters()).grad is None), \"target network should not have grads\""
      ]
    },
    {
      "cell_type": "markdown",
      "metadata": {
        "id": "NCFDmvDRYr9s"
      },
      "source": [
        "## Main loop \n",
        "\n",
        "It's time to put everything together and see if it learns anything."
      ]
    },
    {
      "cell_type": "code",
      "execution_count": 25,
      "metadata": {
        "id": "j3TTjorrYr9u"
      },
      "outputs": [],
      "source": [
        "from tqdm import trange\n",
        "from IPython.display import clear_output\n",
        "import matplotlib.pyplot as plt"
      ]
    },
    {
      "cell_type": "code",
      "execution_count": 26,
      "metadata": {
        "id": "RNXm6ky-Yr9y",
        "colab": {
          "base_uri": "https://localhost:8080/"
        },
        "outputId": "8b1ed4a5-65d7-4c5e-ed6f-db9ff5c3aa58"
      },
      "outputs": [
        {
          "output_type": "execute_result",
          "data": {
            "text/plain": [
              "<torch._C.Generator at 0x7f50d0a11450>"
            ]
          },
          "metadata": {},
          "execution_count": 26
        }
      ],
      "source": [
        "seed = 10\n",
        "random.seed(seed)\n",
        "np.random.seed(seed)\n",
        "torch.manual_seed(seed)"
      ]
    },
    {
      "cell_type": "code",
      "execution_count": 27,
      "metadata": {
        "id": "ZLtZg0PNYr92",
        "colab": {
          "base_uri": "https://localhost:8080/"
        },
        "outputId": "d4ab5005-2679-419f-d41b-33c4c5c24df8"
      },
      "outputs": [
        {
          "output_type": "execute_result",
          "data": {
            "text/plain": [
              "<All keys matched successfully>"
            ]
          },
          "metadata": {},
          "execution_count": 27
        }
      ],
      "source": [
        "env = make_env(seed)\n",
        "state_shape = env.observation_space.shape\n",
        "n_actions = env.action_space.n\n",
        "state = env.reset()\n",
        "\n",
        "agent = DQNAgent(state_shape, n_actions, epsilon=1).to(device)\n",
        "target_network = DQNAgent(state_shape, n_actions).to(device)\n",
        "target_network.load_state_dict(agent.state_dict())"
      ]
    },
    {
      "cell_type": "markdown",
      "metadata": {
        "id": "SJBhKbCLYr96"
      },
      "source": [
        "Buffer of size $10^4$ fits into 5 Gb RAM.\n",
        "\n",
        "Larger sizes ($10^5$ and $10^6$ are common) can be used. It can improve the learning, but $10^4$ is quiet enough. $10^2$ will probably fail learning."
      ]
    },
    {
      "cell_type": "code",
      "execution_count": 28,
      "metadata": {
        "id": "vj9Yfv5oYr97",
        "colab": {
          "base_uri": "https://localhost:8080/"
        },
        "outputId": "b112ec88-28c9-4a65-95a5-67a6c2e0e002"
      },
      "outputs": [
        {
          "output_type": "stream",
          "name": "stdout",
          "text": [
            "10000\n"
          ]
        }
      ],
      "source": [
        "exp_replay = ReplayBuffer(10**4)\n",
        "for i in range(100):\n",
        "    if not utils.is_enough_ram(min_available_gb=0.1):\n",
        "        print(\"\"\"\n",
        "            Less than 100 Mb RAM available. \n",
        "            Make sure the buffer size in not too huge.\n",
        "            Also check, maybe other processes consume RAM heavily.\n",
        "            \"\"\"\n",
        "             )\n",
        "        break\n",
        "    play_and_record(state, agent, env, exp_replay, n_steps=10**2)\n",
        "    if len(exp_replay) == 10**4:\n",
        "        break\n",
        "print(len(exp_replay))"
      ]
    },
    {
      "cell_type": "code",
      "execution_count": 29,
      "metadata": {
        "id": "zu2ADfFUYr-A"
      },
      "outputs": [],
      "source": [
        "timesteps_per_epoch = 1\n",
        "batch_size = 16\n",
        "total_steps = 3 * 10**6\n",
        "decay_steps = 10**5\n",
        "\n",
        "opt = torch.optim.Adam(agent.parameters(), lr=1e-4)\n",
        "\n",
        "init_epsilon = 1\n",
        "final_epsilon = 0.1\n",
        "\n",
        "loss_freq = 50\n",
        "refresh_target_network_freq = 5000\n",
        "eval_freq = 5000\n",
        "\n",
        "max_grad_norm = 50\n",
        "\n",
        "n_lives = 5"
      ]
    },
    {
      "cell_type": "code",
      "execution_count": 30,
      "metadata": {
        "id": "24qZh-6YYr-E",
        "colab": {
          "base_uri": "https://localhost:8080/"
        },
        "outputId": "c3152179-29f5-4fcd-f833-a93ce421f1cf"
      },
      "outputs": [
        {
          "output_type": "stream",
          "name": "stdout",
          "text": [
            "Mounted at /content/drive\n"
          ]
        }
      ],
      "source": [
        "# mean_rw_history = []\n",
        "# td_loss_history = []\n",
        "# grad_norm_history = []\n",
        "# initial_state_v_history = []\n",
        "# step = 0\n",
        "\n",
        "# mount drive and load csv data\n",
        "from google.colab import drive\n",
        "drive.mount('/content/drive')\n",
        "\n",
        "# the information of the files is verified and loaded in the corresponding variables\n",
        "with open('/content/drive/My Drive/TXTs Proyecto 2 Computación Emergente/mean_rw_history.txt', 'r') as f:\n",
        "  if np.loadtxt('/content/drive/My Drive/TXTs Proyecto 2 Computación Emergente/mean_rw_history.txt').tolist():\n",
        "      mean_rw_history = np.loadtxt('/content/drive/My Drive/TXTs Proyecto 2 Computación Emergente/mean_rw_history.txt').tolist()\n",
        "  else:\n",
        "      mean_rw_history = []\n",
        "    \n",
        "with open('/content/drive/My Drive/TXTs Proyecto 2 Computación Emergente/td_loss_history.txt', 'r') as f:\n",
        "  if np.loadtxt('/content/drive/My Drive/TXTs Proyecto 2 Computación Emergente/td_loss_history.txt').tolist():\n",
        "     td_loss_history = np.loadtxt('/content/drive/My Drive/TXTs Proyecto 2 Computación Emergente/td_loss_history.txt').tolist()\n",
        "  else:\n",
        "     td_loss_history = []\n",
        "    \n",
        "with open('/content/drive/My Drive/TXTs Proyecto 2 Computación Emergente/grad_norm_history.txt', 'r') as f:\n",
        "  if np.loadtxt('/content/drive/My Drive/TXTs Proyecto 2 Computación Emergente/grad_norm_history.txt').tolist():\n",
        "      grad_norm_history = np.loadtxt('/content/drive/My Drive/TXTs Proyecto 2 Computación Emergente/grad_norm_history.txt').tolist()\n",
        "  else:\n",
        "      grad_norm_history = []\n",
        "    \n",
        "with open('/content/drive/My Drive/TXTs Proyecto 2 Computación Emergente/initial_state_v_history.txt', 'r') as f:\n",
        "  if np.loadtxt('/content/drive/My Drive/TXTs Proyecto 2 Computación Emergente/initial_state_v_history.txt').tolist():\n",
        "      initial_state_v_history = np.loadtxt('/content/drive/My Drive/TXTs Proyecto 2 Computación Emergente/initial_state_v_history.txt').tolist()\n",
        "  else:\n",
        "      initial_state_v_history = []\n",
        "\n",
        "with open('/content/drive/My Drive/TXTs Proyecto 2 Computación Emergente/step.txt', 'r') as f:\n",
        "  if np.loadtxt('/content/drive/My Drive/TXTs Proyecto 2 Computación Emergente/step.txt'):\n",
        "      step_aux = np.loadtxt('/content/drive/My Drive/TXTs Proyecto 2 Computación Emergente/step.txt')\n",
        "      step = int(step_aux)\n",
        "  else:\n",
        "      step = 0\n",
        "      \n",
        "if step != 0:\n",
        "  state_dict = torch.load(\"/content/drive/My Drive/TXTs Proyecto 2 Computación Emergente/agent.pth\", map_location=device)\n",
        "  agent.load_state_dict(state_dict)\n"
      ]
    },
    {
      "cell_type": "code",
      "execution_count": 31,
      "metadata": {
        "id": "BzsBPAzcYr-K",
        "colab": {
          "base_uri": "https://localhost:8080/",
          "height": 588
        },
        "outputId": "9d92dd3c-49e8-4a98-f868-e1852507a928"
      },
      "outputs": [
        {
          "output_type": "stream",
          "name": "stdout",
          "text": [
            "buffer size = 10000, epsilon = 0.10000\n"
          ]
        },
        {
          "output_type": "display_data",
          "data": {
            "text/plain": [
              "<Figure size 1152x648 with 4 Axes>"
            ],
            "image/png": "[encoded data removed]"
          },
          "metadata": {
            "needs_background": "light"
          }
        },
        {
          "output_type": "stream",
          "name": "stderr",
          "text": [
            "100%|██████████| 35001/35001 [24:14<00:00, 24.06it/s]\n"
          ]
        }
      ],
      "source": [
        "state = env.reset()\n",
        "\n",
        "if step == 3000000: step += 1\n",
        "\n",
        "for step in trange(step, total_steps + 1):\n",
        "    if not utils.is_enough_ram():\n",
        "        print('less that 100 Mb RAM available, freezing')\n",
        "        print('make sure everythin is ok and make KeyboardInterrupt to continue')\n",
        "        try:\n",
        "            while True:\n",
        "                pass\n",
        "        except KeyboardInterrupt:\n",
        "            pass\n",
        "\n",
        "    agent.epsilon = utils.linear_decay(init_epsilon, final_epsilon, step, decay_steps)\n",
        "\n",
        "    # play\n",
        "    _, state = play_and_record(state, agent, env, exp_replay, timesteps_per_epoch)\n",
        "\n",
        "    # train\n",
        "    obs,act,rw,next_obs,is_done = exp_replay.sample(batch_size)\n",
        "\n",
        "    loss = compute_td_loss(obs, act, rw, next_obs, is_done,\n",
        "                    agent, target_network,\n",
        "                    gamma=0.99,\n",
        "                    check_shapes=False,\n",
        "                    device=device)\n",
        "\n",
        "    loss.backward()\n",
        "    grad_norm = nn.utils.clip_grad_norm_(agent.parameters(), max_grad_norm)\n",
        "    opt.step()\n",
        "    opt.zero_grad()\n",
        "\n",
        "    if step % loss_freq == 0:\n",
        "        td_loss_history.append(loss.data.cpu().item())\n",
        "        grad_norm_history.append(grad_norm)\n",
        "\n",
        "    if step % refresh_target_network_freq == 0:\n",
        "        # Load agent weights into target_network\n",
        "        target_network.load_state_dict(agent.state_dict())\n",
        "\n",
        "    if step % eval_freq == 0:\n",
        "        mean_rw_history.append(evaluate(\n",
        "            make_env(clip_rewards=True, seed=step), agent, n_games=3 * n_lives, greedy=True)\n",
        "        )\n",
        "        initial_state_q_values = agent.get_qvalues(\n",
        "            [make_env(seed=step).reset()]\n",
        "        )\n",
        "        initial_state_v_history.append(np.max(initial_state_q_values))\n",
        "\n",
        "        clear_output(True)\n",
        "        print(\"buffer size = %i, epsilon = %.5f\" %\n",
        "              (len(exp_replay), agent.epsilon))\n",
        "\n",
        "        plt.figure(figsize=[16, 9])\n",
        "\n",
        "        plt.subplot(2, 2, 1)\n",
        "        plt.title(\"Mean reward per life\")\n",
        "        plt.plot(mean_rw_history)\n",
        "        plt.grid()\n",
        "\n",
        "        assert not np.isnan(td_loss_history[-1])\n",
        "        plt.subplot(2, 2, 2)\n",
        "        plt.title(\"TD loss history (smoothened)\")\n",
        "        plt.plot(utils.smoothen(td_loss_history))\n",
        "        plt.grid()\n",
        "\n",
        "        plt.subplot(2, 2, 4)\n",
        "        plt.title(\"Grad norm history (smoothened)\")\n",
        "        # torch.Tensor.to(\"cpu\")\n",
        "        # torch.Tensor.cpu()\n",
        "        plt.plot(utils.smoothen(torch.tensor(grad_norm_history, device = \"cpu\")))\n",
        "        # torch.Tensor.to(\"cuda:0\")\n",
        "        # torch.Tensor.cuda()\n",
        "        plt.grid()\n",
        "\n",
        "        plt.subplot(2, 2, 3)\n",
        "        plt.title(\"Initial state V\")\n",
        "        plt.plot(initial_state_v_history)\n",
        "        plt.grid()\n",
        "\n",
        "\n",
        "        plt.show()\n",
        "\n",
        "        # here the training data is saved in files, to have backups\n",
        "        with open('/content/drive/My Drive/TXTs Proyecto 2 Computación Emergente/mean_rw_history.txt', 'w') as f:\n",
        "          np.savetxt(f,mean_rw_history)\n",
        "            \n",
        "        with open('/content/drive/My Drive/TXTs Proyecto 2 Computación Emergente/td_loss_history.txt', 'w') as f:\n",
        "          np.savetxt(f,td_loss_history)\n",
        "            \n",
        "        with open('/content/drive/My Drive/TXTs Proyecto 2 Computación Emergente/grad_norm_history.txt', 'w') as f:\n",
        "          # torch.Tensor.to(\"cpu\")\n",
        "          np.savetxt(f,torch.tensor(grad_norm_history, device = \"cpu\"))\n",
        "          # torch.Tensor.to(\"cuda:0\")\n",
        "            \n",
        "        with open('/content/drive/My Drive/TXTs Proyecto 2 Computación Emergente/initial_state_v_history.txt', 'w') as f:\n",
        "          np.savetxt(f,initial_state_v_history)\n",
        "          \n",
        "        with open('/content/drive/My Drive/TXTs Proyecto 2 Computación Emergente/step.txt', 'w') as f:\n",
        "          np.savetxt(f,[step])\n",
        "\n",
        "        torch.save(agent.state_dict(), \"/content/drive/My Drive/TXTs Proyecto 2 Computación Emergente/agent.pth\")\n"
      ]
    },
    {
      "cell_type": "markdown",
      "metadata": {
        "id": "hiy8gc2ZYr-N"
      },
      "source": [
        "Agent is evaluated for 1 life, not for a whole episode of 5 lives. Rewards in evaluation are also truncated. Cuz this is what environment the agent is learning in and in this way mean rewards per life can be compared with initial state value\n",
        "\n",
        "**The goal is to get 15 points in the real env**. So 3 or better 4 points in the preprocessed one will probably be enough. You can interrupt learning then."
      ]
    },
    {
      "cell_type": "markdown",
      "metadata": {
        "id": "2b8ee9PXYr-O"
      },
      "source": [
        "Final scoring is done on a whole episode with all 5 lives."
      ]
    },
    {
      "cell_type": "code",
      "execution_count": 32,
      "metadata": {
        "id": "w12Lx_lfYr-P",
        "colab": {
          "base_uri": "https://localhost:8080/"
        },
        "outputId": "32d852d7-b426-4d6c-ad61-02ab77eb27a0"
      },
      "outputs": [
        {
          "output_type": "stream",
          "name": "stdout",
          "text": [
            "final score: 109.0\n",
            "Cool!\n"
          ]
        }
      ],
      "source": [
        "final_score = evaluate(\n",
        "  make_env(clip_rewards=False, seed=9),\n",
        "    agent, n_games=30, greedy=True, t_max=10 * 1000\n",
        ") * n_lives\n",
        "print('final score:', final_score)\n",
        "assert final_score >= 15, 'not as cool as DQN can'\n",
        "print('Cool!')"
      ]
    },
    {
      "cell_type": "markdown",
      "metadata": {
        "id": "JmCIqQteYr-T"
      },
      "source": [
        "## How to interpret plots:\n",
        "\n",
        "This aint no supervised learning so don't expect anything to improve monotonously. \n",
        "* **TD loss** is the MSE between agent's current Q-values and target Q-values. It may slowly increase or decrease, it's ok. The \"not ok\" behavior includes going NaN or stayng at exactly zero before agent has perfect performance.\n",
        "* **grad norm** just shows the intensivity of training. Not ok is growing to values of about 100 (or maybe even 50) though it depends on network architecture.\n",
        "* **mean reward** is the expected sum of r(s,a) agent gets over the full game session. It will oscillate, but on average it should get higher over time (after a few thousand iterations...). \n",
        " * In basic q-learning implementation it takes about 40k steps to \"warm up\" agent before it starts to get better.\n",
        "* **Initial state V** is the expected discounted reward for episode in the oppinion of the agent. It should behave more smoothly than **mean reward**. It should get higher over time but sometimes can experience drawdowns because of the agaent's overestimates.\n",
        "* **buffer size** - this one is simple. It should go up and cap at max size.\n",
        "* **epsilon** - agent's willingness to explore. If you see that agent's already at 0.01 epsilon before it's average reward is above 0 - it means you need to increase epsilon. Set it back to some 0.2 - 0.5 and decrease the pace at which it goes down.\n",
        "* Smoothing of plots is done with a gaussian kernel\n",
        "\n",
        "At first your agent will lose quickly. Then it will learn to suck less and at least hit the ball a few times before it loses. Finally it will learn to actually score points.\n",
        "\n",
        "**Training will take time.** A lot of it actually. Probably you will not see any improvment during first **150k** time steps (note that by default in this notebook agent is evaluated every 5000 time steps).\n",
        "\n",
        "But hey, long training time isn't _that_ bad:\n",
        "![img](https://github.com/yandexdataschool/Practical_RL/raw/master/yet_another_week/_resource/training.png)"
      ]
    },
    {
      "cell_type": "markdown",
      "metadata": {
        "id": "7rf-ATYqYr-U"
      },
      "source": [
        "## About hyperparameters:\n",
        "\n",
        "The task has something in common with supervised learning: loss is optimized through the buffer (instead of Train dataset). But the distribution of states and actions in the buffer **is not stationary** and depends on the policy that generated it. It can even happen that the mean TD error across the buffer is very low but the performance is extremely poor (imagine the agent collecting data to the buffer always manages to avoid the ball).\n",
        "\n",
        "* Total timesteps and training time: It seems to be so huge, but actually it is normal for RL.\n",
        "\n",
        "* $\\epsilon$ decay shedule was taken from the original paper and is like traditional for epsilon-greedy policies. At the beginning of the training the agent's greedy policy is poor so many random actions should be taken.\n",
        "\n",
        "* Optimizer: In the original paper RMSProp was used (they did not have Adam in 2013) and it can work not worse than Adam. For us Adam was default and it worked.\n",
        "\n",
        "* lr: $10^{-3}$ would probably be too huge\n",
        "\n",
        "* batch size: This one can be very important: if it is too small the agent can fail to learn. Huge batch takes more time to process. If batch of size 8 can not be processed on the hardware you use take 2 (or even 4) batches of size 4, divide the loss on them by 2 (or 4) and make optimization step after both backward() calls in torch.\n",
        "\n",
        "* target network update frequency: has something in common with learning rate. Too frequent updates can lead to divergence. Too rare can lead to slow leraning. For millions of total timesteps thousands of inner steps seem ok. One iteration of target network updating is an iteration of the (this time approximate) $\\gamma$-compression that stands behind Q-learning. The more inner steps it makes the more accurate is the compression.\n",
        "* max_grad_norm - just huge enough. In torch clip_grad_norm also evaluates the norm before clipping and it can be convenient for logging."
      ]
    },
    {
      "cell_type": "markdown",
      "metadata": {
        "id": "mw1NpGggYr-V"
      },
      "source": [
        "### Video"
      ]
    },
    {
      "cell_type": "code",
      "execution_count": 33,
      "metadata": {
        "id": "Up05RZ8uYr-Y"
      },
      "outputs": [],
      "source": [
        "# record sessions\n",
        "import gym.wrappers\n",
        "env_monitor = gym.wrappers.Monitor(make_env(clip_rewards=False, seed=9), directory=\"videos\", force=True)\n",
        "sessions = [evaluate(env_monitor, agent, n_games=n_lives, greedy=True) for _ in range(10)]\n",
        "env_monitor.close()"
      ]
    },
    {
      "cell_type": "code",
      "execution_count": 34,
      "metadata": {
        "id": "OLKEuSu9Yr-f",
        "colab": {
          "resources": {
            "http://localhost:8080/videos/openaigym.video.0.59.video000001.mp4": {
              "data": "CjwhRE9DVFlQRSBodG1sPgo8aHRtbCBsYW5nPWVuPgogIDxtZXRhIGNoYXJzZXQ9dXRmLTg+CiAgPG1ldGEgbmFtZT12aWV3cG9ydCBjb250ZW50PSJpbml0aWFsLXNjYWxlPTEsIG1pbmltdW0tc2NhbGU9MSwgd2lkdGg9ZGV2aWNlLXdpZHRoIj4KICA8dGl0bGU+RXJyb3IgNDA0IChOb3QgRm91bmQpISExPC90aXRsZT4KICA8c3R5bGU+CiAgICAqe21hcmdpbjowO3BhZGRpbmc6MH1odG1sLGNvZGV7Zm9udDoxNXB4LzIycHggYXJpYWwsc2Fucy1zZXJpZn1odG1se2JhY2tncm91bmQ6I2ZmZjtjb2xvcjojMjIyO3BhZGRpbmc6MTVweH1ib2R5e21hcmdpbjo3JSBhdXRvIDA7bWF4LXdpZHRoOjM5MHB4O21pbi1oZWlnaHQ6MTgwcHg7cGFkZGluZzozMHB4IDAgMTVweH0qID4gYm9keXtiYWNrZ3JvdW5kOnVybCgvL3d3dy5nb29nbGUuY29tL2ltYWdlcy9lcnJvcnMvcm9ib3QucG5nKSAxMDAlIDVweCBuby1yZXBlYXQ7cGFkZGluZy1yaWdodDoyMDVweH1we21hcmdpbjoxMXB4IDAgMjJweDtvdmVyZmxvdzpoaWRkZW59aW5ze2NvbG9yOiM3Nzc7dGV4dC1kZWNvcmF0aW9uOm5vbmV9YSBpbWd7Ym9yZGVyOjB9QG1lZGlhIHNjcmVlbiBhbmQgKG1heC13aWR0aDo3NzJweCl7Ym9keXtiYWNrZ3JvdW5kOm5vbmU7bWFyZ2luLXRvcDowO21heC13aWR0aDpub25lO3BhZGRpbmctcmlnaHQ6MH19I2xvZ297YmFja2dyb3VuZDp1cmwoLy93d3cuZ29vZ2xlLmNvbS9pbWFnZXMvbG9nb3MvZXJyb3JwYWdlL2Vycm9yX2xvZ28tMTUweDU0LnBuZykgbm8tcmVwZWF0O21hcmdpbi1sZWZ0Oi01cHh9QG1lZGlhIG9ubHkgc2NyZWVuIGFuZCAobWluLXJlc29sdXRpb246MTkyZHBpKXsjbG9nb3tiYWNrZ3JvdW5kOnVybCgvL3d3dy5nb29nbGUuY29tL2ltYWdlcy9sb2dvcy9lcnJvcnBhZ2UvZXJyb3JfbG9nby0xNTB4NTQtMngucG5nKSBuby1yZXBlYXQgMCUgMCUvMTAwJSAxMDAlOy1tb3otYm9yZGVyLWltYWdlOnVybCgvL3d3dy5nb29nbGUuY29tL2ltYWdlcy9sb2dvcy9lcnJvcnBhZ2UvZXJyb3JfbG9nby0xNTB4NTQtMngucG5nKSAwfX1AbWVkaWEgb25seSBzY3JlZW4gYW5kICgtd2Via2l0LW1pbi1kZXZpY2UtcGl4ZWwtcmF0aW86Mil7I2xvZ297YmFja2dyb3VuZDp1cmwoLy93d3cuZ29vZ2xlLmNvbS9pbWFnZXMvbG9nb3MvZXJyb3JwYWdlL2Vycm9yX2xvZ28tMTUweDU0LTJ4LnBuZykgbm8tcmVwZWF0Oy13ZWJraXQtYmFja2dyb3VuZC1zaXplOjEwMCUgMTAwJX19I2xvZ297ZGlzcGxheTppbmxpbmUtYmxvY2s7aGVpZ2h0OjU0cHg7d2lkdGg6MTUwcHh9CiAgPC9zdHlsZT4KICA8YSBocmVmPS8vd3d3Lmdvb2dsZS5jb20vPjxzcGFuIGlkPWxvZ28gYXJpYS1sYWJlbD1Hb29nbGU+PC9zcGFuPjwvYT4KICA8cD48Yj40MDQuPC9iPiA8aW5zPlRoYXTigJlzIGFuIGVycm9yLjwvaW5zPgogIDxwPiAgPGlucz5UaGF04oCZcyBhbGwgd2Uga25vdy48L2lucz4K",
              "ok": false,
              "headers": [
                [
                  "content-length",
                  "1449"
                ],
                [
                  "content-type",
                  "text/html; charset=utf-8"
                ]
              ],
              "status": 404,
              "status_text": ""
            }
          },
          "base_uri": "https://localhost:8080/",
          "height": 0
        },
        "outputId": "a9400e48-edcb-43f9-9bd4-be9fe7dc1ed3"
      },
      "outputs": [
        {
          "output_type": "execute_result",
          "data": {
            "text/plain": [
              "<IPython.core.display.HTML object>"
            ],
            "text/html": [
              "\n",
              "<video width=\"640\" height=\"480\" controls>\n",
              "  <source src=\"./videos/openaigym.video.0.59.video000001.mp4\" type=\"video/mp4\">\n",
              "</video>\n"
            ]
          },
          "metadata": {},
          "execution_count": 34
        }
      ],
      "source": [
        "# show video\n",
        "from IPython.display import HTML\n",
        "import os\n",
        "\n",
        "video_names = list(\n",
        "    filter(lambda s: s.endswith(\".mp4\"), os.listdir(\"./videos/\")))\n",
        "\n",
        "HTML(\"\"\"\n",
        "<video width=\"640\" height=\"480\" controls>\n",
        "  <source src=\"{}\" type=\"video/mp4\">\n",
        "</video>\n",
        "\"\"\".format(\"./videos/\"+video_names[-1]))  # this may or may not be _last_ video. Try other indices"
      ]
    },
    {
      "cell_type": "markdown",
      "metadata": {
        "id": "QWCbJUK-Yr-k"
      },
      "source": [
        "## Let's have a closer look at this.\n",
        "\n",
        "If average episode score is below 200 using all 5 lives, then probably DQN has not converged fully. But anyway let's make a more complete record of an episode."
      ]
    },
    {
      "cell_type": "code",
      "execution_count": 35,
      "metadata": {
        "id": "MNPOJAZTYr-l",
        "colab": {
          "base_uri": "https://localhost:8080/"
        },
        "outputId": "13617d7a-2edc-4268-c334-d856838b3828"
      },
      "outputs": [
        {
          "output_type": "stream",
          "name": "stdout",
          "text": [
            "total reward for life: 18.0\n",
            "states\n",
            "v_mc\n",
            "v_agent\n",
            "q_spreads\n",
            "td_errors\n",
            "rewards\n",
            "episode_finished\n"
          ]
        }
      ],
      "source": [
        "eval_env = make_env(clip_rewards=False)\n",
        "record = utils.play_and_log_episode(eval_env, agent)\n",
        "print('total reward for life:', np.sum(record['rewards']))\n",
        "for key in record:\n",
        "    print(key)"
      ]
    },
    {
      "cell_type": "code",
      "execution_count": 36,
      "metadata": {
        "id": "aW8vnU_IYr-r",
        "colab": {
          "base_uri": "https://localhost:8080/",
          "height": 350
        },
        "outputId": "272bd211-7bb4-4504-8bdc-ac21fb79977c"
      },
      "outputs": [
        {
          "output_type": "display_data",
          "data": {
            "text/plain": [
              "<Figure size 360x360 with 1 Axes>"
            ],
            "image/png": "[encoded data removed]"
          },
          "metadata": {
            "needs_background": "light"
          }
        }
      ],
      "source": [
        "fig = plt.figure(figsize=(5, 5))\n",
        "ax = fig.add_subplot(1, 1, 1)\n",
        "\n",
        "ax.scatter(record['v_mc'], record['v_agent'])\n",
        "ax.plot(sorted(record['v_mc']), sorted(record['v_mc']),\n",
        "       'black', linestyle='--', label='x=y')\n",
        "\n",
        "ax.grid()\n",
        "ax.legend()\n",
        "ax.set_title('State Value Estimates')\n",
        "ax.set_xlabel('Monte-Carlo')\n",
        "ax.set_ylabel('Agent')\n",
        "\n",
        "plt.show()"
      ]
    },
    {
      "cell_type": "markdown",
      "metadata": {
        "id": "5VT1N3MpYr-x"
      },
      "source": [
        "$\\hat V_{Monte-Carlo}(s_t) = \\sum_{\\tau=0}^{episode~end} \\gamma^{\\tau-t}r_t$"
      ]
    },
    {
      "cell_type": "markdown",
      "metadata": {
        "id": "u9GWlVC-Yr-z"
      },
      "source": [
        "Is there a big bias? It's ok, anyway it works."
      ]
    },
    {
      "cell_type": "markdown",
      "metadata": {
        "id": "hYHBYISWYr-1"
      },
      "source": [
        "## Bonus I (2 pts)"
      ]
    },
    {
      "cell_type": "markdown",
      "metadata": {
        "id": "h4Qzhel-Yr-2"
      },
      "source": [
        "**1.** Plot several (say 3) states with high and low spreads of Q estimate by actions i.e.\n",
        "$$\\max_a \\hat Q(s,a) - \\min_a \\hat Q(s,a)\\$$\n",
        "Please take those states from different episodes to make sure that the states are really different.\n",
        "\n",
        "What should high and low spread mean at least in the world of perfect Q-fucntions?\n",
        "\n",
        "Comment the states you like most.\n",
        "\n",
        "**2.** Plot several (say 3) states with high td-error and several states with high values of\n",
        "$$| \\hat V_{Monte-Carlo}(s) - \\hat V_{agent}(s)|,$$ \n",
        "$$\\hat V_{agent}(s)=\\max_a \\hat Q(s,a).$$ Please take those states from different episodes to make sure that the states are really different. From what part (i.e. beginning, middle, end) of an episode did these states come from?\n",
        "\n",
        "Comment the states you like most."
      ]
    },
    {
      "cell_type": "code",
      "execution_count": 37,
      "metadata": {
        "id": "blY7EK_MYr-3",
        "colab": {
          "base_uri": "https://localhost:8080/",
          "height": 1000
        },
        "outputId": "9e82baea-e2d1-4cfb-fa67-7856700fac4d"
      },
      "outputs": [
        {
          "output_type": "stream",
          "name": "stdout",
          "text": [
            "Bonus I, parte 1\n",
            " \n",
            " \n",
            "Discrete(4)\n",
            "Real in-game actions: ['NOOP', 'FIRE', 'RIGHT', 'LEFT']\n",
            "                    : ['  0 ', '  1 ', '  2 ', '  3 ']\n",
            " \n",
            " \n",
            "-----------------------------------------------------------------------------------------------------\n",
            "Episode 1\n",
            " \n",
            " \n",
            "Q_Values - episode 1: [[2.6777952 2.711197  2.6049063 2.5972092]]\n",
            " \n",
            "Max_Q_Value - episode 1: 2.711197\n",
            " \n",
            "Min_Q_Value - episode 1: 2.5972092\n",
            " \n",
            "Q_Spread - episode 1: 0.113987684\n",
            " \n",
            "Agent Action - episode 1: 1 --> FIRE\n",
            " \n",
            " \n",
            "State - episode 1: \n"
          ]
        },
        {
          "output_type": "display_data",
          "data": {
            "text/plain": [
              "<Figure size 1152x288 with 4 Axes>"
            ],
            "image/png": "[encoded data removed]"
          },
          "metadata": {
            "needs_background": "light"
          }
        },
        {
          "output_type": "stream",
          "name": "stdout",
          "text": [
            " \n",
            " \n",
            "-----------------------------------------------------------------------------------------------------\n",
            "Episode 4\n",
            " \n",
            " \n",
            "Q_Values - episode 4: [[2.895561  2.8679543 2.8676312 2.8893745]]\n",
            " \n",
            "Max_Q_Value - episode 4: 2.895561\n",
            " \n",
            "Min_Q_Value - episode 4: 2.8676312\n",
            " \n",
            "Q_Spread - episode 4: 0.027929783\n",
            " \n",
            "Agent Action - episode 4: 0 --> NOOP\n",
            " \n",
            " \n",
            "State - episode 4: \n"
          ]
        },
        {
          "output_type": "display_data",
          "data": {
            "text/plain": [
              "<Figure size 1152x288 with 4 Axes>"
            ],
            "image/png": "[encoded data removed]"
          },
          "metadata": {
            "needs_background": "light"
          }
        },
        {
          "output_type": "stream",
          "name": "stdout",
          "text": [
            " \n",
            " \n",
            "-----------------------------------------------------------------------------------------------------\n",
            "Episode 7\n",
            " \n",
            " \n",
            "Q_Values - episode 7: [[2.9603903 2.9930758 2.9119437 3.002315 ]]\n",
            " \n",
            "Max_Q_Value - episode 7: 3.002315\n",
            " \n",
            "Min_Q_Value - episode 7: 2.9119437\n",
            " \n",
            "Q_Spread - episode 7: 0.09037137\n",
            " \n",
            "Agent Action - episode 7: 3 --> LEFT\n",
            " \n",
            " \n",
            "State - episode 7: \n"
          ]
        },
        {
          "output_type": "display_data",
          "data": {
            "text/plain": [
              "<Figure size 1152x288 with 4 Axes>"
            ],
            "image/png": "[encoded data removed]"
          },
          "metadata": {
            "needs_background": "light"
          }
        },
        {
          "output_type": "stream",
          "name": "stdout",
          "text": [
            " \n",
            " \n"
          ]
        }
      ],
      "source": [
        "from utils import play_and_log_episode, img_by_obs\n",
        "\n",
        "print('Bonus I, parte 1')\n",
        "print(' ')\n",
        "print(' ')\n",
        "## Aquí buscamos cuáles son las acciones reales según las reglas del entorno\n",
        "real_action = eval_env.unwrapped.get_action_meanings()\n",
        "print(str(eval_env.action_space))\n",
        "print('Real in-game actions: ' + str(real_action))\n",
        "print('                    : ' + str(['  0 ', '  1 ', '  2 ', '  3 ']))\n",
        "print(' ')\n",
        "print(' ')\n",
        "\n",
        "## Obtenemos un log de los episodios por los que pasó el agente\n",
        "episode = play_and_log_episode(eval_env, agent)\n",
        "\n",
        "## Episodios a evaluar: en este caso, evaluaremos los episodios del inicio, del medio y del final [inicio, medio, final]\n",
        "episodes = [0, 3, len(episode) - 1]\n",
        "\n",
        "## Iteramos sobre los episodios seleccionados\n",
        "for i in episodes:\n",
        "    print('-----------------------------------------------------------------------------------------------------')\n",
        "    print('Episode ' + str(i+1))\n",
        "    print(' ')\n",
        "    print(' ')\n",
        "    ## Estados y Q_spreads del inicio del episodio, en este caso después de las 4 primeras acciones del agente\n",
        "    epi = {'state': episode['states'][i], 'q_spread': episode['q_spreads'][i]}\n",
        "\n",
        "    q_values_epi = agent.get_qvalues([epi['state']])\n",
        "    action_epi = q_values_epi.argmax(axis=-1)[0]\n",
        "\n",
        "    print('Q_Values - episode ' + str(i+1) + ': ' + str(q_values_epi))\n",
        "    print(' ')\n",
        "    print('Max_Q_Value - episode ' + str(i+1) + ': ' + str(np.max(q_values_epi)))\n",
        "    print(' ')\n",
        "    print('Min_Q_Value - episode ' + str(i+1) + ': ' + str(np.min(q_values_epi)))\n",
        "    print(' ')\n",
        "    print('Q_Spread - episode ' + str(i+1) + ': ' + str(epi['q_spread']))\n",
        "    print(' ')\n",
        "    print('Agent Action - episode ' + str(i+1) + ': ' + str(action_epi) + ' --> ' + str(real_action[action_epi]) )\n",
        "    print(' ')\n",
        "    print(' ')\n",
        "    print('State - episode ' + str(i+1) + ': ')\n",
        "\n",
        "\n",
        "    fig = plt.figure(figsize = (16,4))\n",
        "    n_rows = 1\n",
        "    n_cols = 4\n",
        "\n",
        "    for row in range(n_rows):\n",
        "        for col in range(n_cols): \n",
        "            ax = fig.add_subplot(n_rows, n_cols, row * n_cols + col + 1)\n",
        "            ax.imshow(utils.img_by_obs(epi['state'][col], state_shape), interpolation='none', cmap='gray')\n",
        "    plt.show()\n",
        "    print(' ')\n",
        "    print(' ')\n"
      ]
    },
    {
      "cell_type": "markdown",
      "metadata": {
        "id": "ns-dIW66Yr-7"
      },
      "source": [
        "## Bonus I (1-5 pts). Get High Score!\n",
        "\n",
        "1 point to you for each 50 points of your agent. Truncated by 5 points. Starting with 50 points, **not** 50 + threshold.\n",
        "\n",
        "One way is to train for several days and use heavier hardware (why not actually).\n",
        "\n",
        "Another way is to apply modifications"
      ]
    },
    {
      "cell_type": "code",
      "execution_count": 37,
      "metadata": {
        "id": "iOIjcJQuYr_D"
      },
      "outputs": [],
      "source": [
        ""
      ]
    }
  ],
  "metadata": {
    "colab": {
      "name": "Proyecto_2_GPU_Nicole_Brito_y_Giselle_Ferreira (1).ipynb",
      "provenance": [],
      "collapsed_sections": [
        "mw1NpGggYr-V"
      ]
    },
    "kernelspec": {
      "display_name": "Python 3",
      "language": "python",
      "name": "python3"
    },
    "language_info": {
      "codemirror_mode": {
        "name": "ipython",
        "version": 3
      },
      "file_extension": ".py",
      "mimetype": "text/x-python",
      "name": "python",
      "nbconvert_exporter": "python",
      "pygments_lexer": "ipython3",
      "version": "3.7.4"
    },
    "accelerator": "GPU",
    "gpuClass": "standard"
  },
  "nbformat": 4,
  "nbformat_minor": 0
}